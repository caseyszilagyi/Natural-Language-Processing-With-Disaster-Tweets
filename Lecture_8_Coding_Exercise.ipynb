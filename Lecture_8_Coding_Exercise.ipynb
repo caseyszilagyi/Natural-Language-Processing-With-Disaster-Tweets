{
 "cells": [
  {
   "cell_type": "code",
   "execution_count": null,
   "metadata": {
    "colab": {},
    "colab_type": "code",
    "id": "VkXxwOsdO2TU"
   },
   "outputs": [],
   "source": [
    "# Importing necessary libraries for training and visualization\n",
    "import numpy as np\n",
    "import torch\n",
    "import torchvision\n",
    "from time import time\n",
    "from torchvision import datasets, transforms\n",
    "from torch import nn, optim\n",
    "from torch.utils.data.sampler import SubsetRandomSampler\n",
    "from torch.autograd import Variable\n",
    "\n",
    "import matplotlib.pyplot as plt\n",
    "import tqdm"
   ]
  },
  {
   "cell_type": "code",
   "execution_count": null,
   "metadata": {
    "colab": {
     "base_uri": "https://localhost:8080/",
     "height": 35
    },
    "colab_type": "code",
    "id": "8-9rw0MKXrMA",
    "outputId": "bc219b92-238b-4cfb-975d-19815bb679f5"
   },
   "outputs": [
    {
     "data": {
      "text/plain": [
       "'Tesla P100-PCIE-16GB'"
      ]
     },
     "execution_count": 2,
     "metadata": {
      "tags": []
     },
     "output_type": "execute_result"
    }
   ],
   "source": [
    "# Check to see that you are connected to a GPU\n",
    "torch.cuda.get_device_name(0)"
   ]
  },
  {
   "cell_type": "code",
   "execution_count": null,
   "metadata": {
    "colab": {},
    "colab_type": "code",
    "id": "ZDw80WDnOpQU"
   },
   "outputs": [],
   "source": [
    "# Defining a normalization function for our data using the transforms library.\n",
    "\n",
    "# transforms.ToTensor() to scales values in the RGB channels typically (between \n",
    "# 0 and 255) to values between 0 and 1. We only have one channel in MNIST since\n",
    "# it is a grayscale image.\n",
    "\n",
    "# transforms.Normalize() normalizes the inputs to the given mean and std dev.\n",
    "# Since we only have one channel, specify the mean and std dev as 1-D vectors.\n",
    "mean = (0.5,)\n",
    "std_dev = (0.5,)\n",
    "\n",
    "normalization_transforms = [transforms.ToTensor(), \n",
    "                            transforms.Normalize(mean, std_dev)]\n",
    "\n",
    "# Composing all of our desired transforms into a single object we'll use when\n",
    "# loading out dataset.\n",
    "transform = transforms.Compose(normalization_transforms)"
   ]
  },
  {
   "cell_type": "code",
   "execution_count": null,
   "metadata": {
    "colab": {},
    "colab_type": "code",
    "id": "MlgkpdvCPZ_r"
   },
   "outputs": [],
   "source": [
    "# Defining hyper-parameters and other values used by our model.\n",
    "\n",
    "# Size of the batch our network sees. Batch size dictates how many examples the \n",
    "# model \"sees\" before computing updates (or backpropagation). \n",
    "batch_size = 100\n",
    "\n",
    "# The percentage of our training dataset that will be used for validation \n",
    "# during training.\n",
    "validation_split = .2\n",
    "\n",
    "# Below are parameters for the shuffling of the dataset. We specify the random\n",
    "# seed explicitly so your data-split is the same as this example.\n",
    "shuffle_dataset = True\n",
    "random_seed = 42\n",
    "\n",
    "# Loading and create pytorch dataset objects for our training and test sets.\n",
    "\n",
    "# MNIST is a traditional dataset that exists in the PyTorch library, however,\n",
    "# if you are loading your own dataset there will be additional code here to \n",
    "# do so. We will see an example of how to do this in a future lecture.\n",
    "\n",
    "train_set = datasets.MNIST('PATH_TO_STORE_TRAINSET', download=True, \\\n",
    "                           train=True, transform=transform)\n",
    "test_set = datasets.MNIST('PATH_TO_STORE_TESTSET', download=True, \\\n",
    "                          train=False, transform=transform)\n",
    "\n",
    "# train_set = datasets.FashionMNIST('PATH_TO_STORE_TRAINSET', download=True, \\\n",
    "#                           train=True, transform=transform)\n",
    "# test_set = datasets.FashionMNIST('PATH_TO_STORE_TESTSET', download=True, \\\n",
    "#                           train=False, transform=transform)\n",
    "\n",
    "# Create validation split by taking a percentage of the training set:\n",
    "dataset_size = len(train_set)\n",
    "indices = list(range(dataset_size))\n",
    "split = int(np.floor(validation_split * dataset_size))\n",
    "\n",
    "# Shuffle the dataset to increase generalization and speed training\n",
    "if shuffle_dataset :\n",
    "    np.random.seed(random_seed)\n",
    "    np.random.shuffle(indices)\n",
    "\n",
    "train_indices, val_indices = indices[split:], indices[:split]\n",
    "\n",
    "# Use the SubsetRandomSampler to randomly sample the training dataset for \n",
    "# training and validation data. We will feed this into the dataloader below.\n",
    "train_sampler = SubsetRandomSampler(train_indices)\n",
    "val_sampler = SubsetRandomSampler(val_indices)\n",
    "\n",
    "# Create dataloader objects - will be used during training and inference\n",
    "# to iterate over the data.\n",
    "train_loader = torch.utils.data.DataLoader(train_set, batch_size=batch_size, \\\n",
    "                                           sampler=train_sampler)\n",
    "val_loader = torch.utils.data.DataLoader(train_set, batch_size=batch_size, \\\n",
    "                                         sampler=val_sampler)\n",
    "test_loader = torch.utils.data.DataLoader(test_set, batch_size=batch_size, \\\n",
    "                                          shuffle=False)"
   ]
  },
  {
   "cell_type": "code",
   "execution_count": null,
   "metadata": {
    "colab": {},
    "colab_type": "code",
    "id": "KBI4LMzUTpx1"
   },
   "outputs": [],
   "source": [
    "# Verify we've loaded the number of training and testing samples we expect.\n",
    "print(len(train_set), len(test_set))\n",
    "\n",
    "# Let's visualize data from our validation to make sure it's loaded correctly.\n",
    "# Each time this is run, a random sample will be viewed.\n",
    "dataiter = iter(val_loader)\n",
    "images, labels = dataiter.next()\n",
    "\n",
    "# Making sure the dimensions of the image and label tensors are as expected\n",
    "# is critical, since otherwise you'll be faced with a slew of dimension errors.\n",
    "\n",
    "# We should see the image shape listed as [batch_size, channels, height, width]\n",
    "# and label shape as [batch_size,]\n",
    "print(\"Image shape: \", images.shape, \"Label shape: \", labels.shape)\n",
    "plt.imshow(images[0].numpy().squeeze(), cmap='gray_r');"
   ]
  },
  {
   "cell_type": "code",
   "execution_count": null,
   "metadata": {
    "colab": {},
    "colab_type": "code",
    "id": "lhoZ6F8HUI9D"
   },
   "outputs": [],
   "source": [
    "# Here we are going to create our neural network class by inheiriting the \n",
    "# nn.Module class. The main functions to notice are the initialization function \n",
    "# __init__() and forward propagation function forward().\n",
    "\n",
    "class Net(nn.Module):\n",
    "\n",
    "  # We initialize our neural net by defining the input size, number of nodes\n",
    "  # in hidden layers, and the total number of classes we are detecting.\n",
    "  def __init__(self, num_classes):\n",
    "\n",
    "    # IMPORTANT: This is often forgotten, but make sure to make a super call.\n",
    "    super(Net, self).__init__()\n",
    "\n",
    "    pass\n",
    "  \n",
    "  # Below we construct the output of the forward propagation pass of the neural\n",
    "  # net using the layers and activation functions defined in the Net constructor.\n",
    "  def forward(self, x):\n",
    "    pass"
   ]
  },
  {
   "cell_type": "code",
   "execution_count": null,
   "metadata": {
    "colab": {},
    "colab_type": "code",
    "id": "rcLI1_bblcQ7"
   },
   "outputs": [],
   "source": [
    "# Create a neural network object with the specified number of input neurons,\n",
    "# hidden neurons, and output neurons (or total classes)\n",
    "\n",
    "net = Net(784, 16, 10)\n",
    "\n",
    "# We use cross-entropy loss with the Adam optimizer. No need to understand what\n",
    "# these two mean just yet, we will go over cross-entropy soon and the Adam \n",
    "# optimizer in a later lecture.\n",
    "criterion = nn.CrossEntropyLoss()\n",
    "optimizer = torch.optim.Adam(net.parameters(), lr=0.001)"
   ]
  },
  {
   "cell_type": "code",
   "execution_count": null,
   "metadata": {
    "colab": {},
    "colab_type": "code",
    "id": "1YPL2YuI9Azm"
   },
   "outputs": [],
   "source": [
    "# Function for getting accuracy, adapted from: \n",
    "# https://towardsdatascience.com/a-simple-starter-guide-to-build-a-neural-network-3c2cf07b8d7c\n",
    "\n",
    "def get_accuracy(loader, my_net):\n",
    "  correct = 0\n",
    "  total = 0\n",
    "  for images, labels in loader:\n",
    "      images = Variable(images)\n",
    "      outputs = my_net(images)\n",
    "      _, predicted = torch.max(outputs.data, 1)  \n",
    "      total += labels.size(0)               \n",
    "      correct += (predicted == labels).sum()\n",
    "\n",
    "  return 100 * correct / total"
   ]
  },
  {
   "cell_type": "code",
   "execution_count": null,
   "metadata": {
    "colab": {},
    "colab_type": "code",
    "id": "PhfFX57Ulsj7"
   },
   "outputs": [],
   "source": [
    "# Here we create our training loop, which runs for the number of epochs\n",
    "# specified below. \n",
    "\n",
    "# 1 Epoch represents one entire pass through your training dataset, so 20 epochs\n",
    "# means that your model will see each data point ~20 times during training.\n",
    "num_epochs = 5\n",
    "\n",
    "loss_tracker = []\n",
    "\n",
    "for epoch in range(num_epochs):\n",
    "  # Initialize random value for loss just for displaying purposes\n",
    "  loss = torch.tensor([100])\n",
    "\n",
    "  # Using the tqdm for nice training visuals\n",
    "  progress_bar = tqdm.notebook.tqdm(train_loader, ncols=1000)\n",
    "\n",
    "  # We load a batch of images and their corresponding labels here and continue\n",
    "  # until we trained on all batches.\n",
    "  for i, (images, labels) in enumerate(progress_bar):\n",
    "    # Convert torch tensor to a vector of size 784 in order to send it to input\n",
    "    # layer\n",
    "    images = Variable(images)\n",
    "    labels = Variable(labels)\n",
    "\n",
    "    if i == 0:\n",
    "      print(images.size(0))\n",
    "\n",
    "    # Clear the gradients before performing backpropagation\n",
    "    optimizer.zero_grad()\n",
    "    # Perform the forward pass - this call of net calls the forward() fn\n",
    "    outputs = net(images)\n",
    "    # Compute loss on the output of the forward pass and desired label\n",
    "    loss = criterion(outputs, labels)\n",
    "    # Compute the gradients with respect to the loss function\n",
    "    loss.backward()      \n",
    "    # Update the weights in the neural network using the optimizer/backprop\n",
    "    optimizer.step()\n",
    "\n",
    "    # Track losses for plotting later\n",
    "    loss_tracker.append(loss.data)                                  \n",
    "\n",
    "    # Visualization code\n",
    "    if (i+1) % 100 == 0 or (i+1) == len(train_loader):   \n",
    "      progress_bar.set_description('Epoch [%d/%d], Step [%d/%d], Val Acc: %d, Training Loss: %.4f'\n",
    "              %(epoch+1, num_epochs, i+1, len(train_loader), \\\n",
    "                get_accuracy(val_loader, net), loss.data))\n"
   ]
  },
  {
   "cell_type": "code",
   "execution_count": null,
   "metadata": {
    "colab": {},
    "colab_type": "code",
    "id": "i_PflR18lwGd"
   },
   "outputs": [],
   "source": [
    "# Print the training and test accuracy\n",
    "train_acc = get_accuracy(train_loader, net)\n",
    "test_acc = get_accuracy(test_loader, net)\n",
    "\n",
    "print('Accuracy of the network on the 60K train images: %d %%' % (train_acc))\n",
    "print('Accuracy of the network on the 10K test images: %d %%' % (test_acc))"
   ]
  },
  {
   "cell_type": "code",
   "execution_count": null,
   "metadata": {
    "colab": {},
    "colab_type": "code",
    "id": "lLwzEfFiCWOf"
   },
   "outputs": [],
   "source": [
    "# Plot the loss over time\n",
    "plt.plot(loss_tracker)\n",
    "plt.ylabel(\"Loss\")\n",
    "plt.xlabel(\"Step Number\")\n",
    "plt.title(\"Loss over time\")\n",
    "plt.show()"
   ]
  },
  {
   "cell_type": "code",
   "execution_count": null,
   "metadata": {
    "colab": {},
    "colab_type": "code",
    "id": "KY1qkKJeaXOm"
   },
   "outputs": [],
   "source": [
    "# Let's visualize where the model is making bad predictions and get an idea of \n",
    "# why that's happening\n",
    "test_loader = torch.utils.data.DataLoader(test_set, batch_size=1)\n",
    "\n",
    "correct = 0\n",
    "misclassified_images = []\n",
    "misclassified_labels = []\n",
    "misclassified_preds = []\n",
    "for images, labels in test_loader:\n",
    "    images = Variable(images)\n",
    "    outputs = net(images)\n",
    "    _, predicted = torch.max(outputs.data, 1)  \n",
    "    correct += (predicted == labels).sum()\n",
    "\n",
    "    if predicted != labels:\n",
    "      misclassified_images.append(images.view(1, 28, 28))\n",
    "      misclassified_labels.append(labels)\n",
    "      misclassified_preds.append(predicted)"
   ]
  },
  {
   "cell_type": "code",
   "execution_count": null,
   "metadata": {
    "colab": {
     "base_uri": "https://localhost:8080/",
     "height": 300
    },
    "colab_type": "code",
    "id": "p8WtKA3WdUwe",
    "outputId": "4f8d7b0b-157f-4035-8fe7-93d4cf421b47"
   },
   "outputs": [
    {
     "name": "stdout",
     "output_type": "stream",
     "text": [
      "Actual Label:  tensor([7])\n",
      "Prediction:  tensor([9])\n"
     ]
    },
    {
     "data": {
      "image/png": "[encoded data removed]",
      "text/plain": [
       "<Figure size 432x288 with 1 Axes>"
      ]
     },
     "metadata": {
      "needs_background": "light",
      "tags": []
     },
     "output_type": "display_data"
    }
   ],
   "source": [
    "# Keep running this cell to see randomly chosen images that the model misclassified\n",
    "# in the testing set.\n",
    "rand_idx = np.random.randint(len(misclassified_images))\n",
    "plt.imshow(misclassified_images[rand_idx].numpy().squeeze(), cmap='gray_r');\n",
    "print(\"Actual Label: \", misclassified_labels[rand_idx])\n",
    "print(\"Prediction: \", misclassified_preds[rand_idx])"
   ]
  }
 ],
 "metadata": {
  "accelerator": "GPU",
  "colab": {
   "collapsed_sections": [],
   "name": "Lecture #8 - Coding Exercise",
   "provenance": []
  },
  "kernelspec": {
   "display_name": "Python 3",
   "language": "python",
   "name": "python3"
  },
  "language_info": {
   "codemirror_mode": {
    "name": "ipython",
    "version": 3
   },
   "file_extension": ".py",
   "mimetype": "text/x-python",
   "name": "python",
   "nbconvert_exporter": "python",
   "pygments_lexer": "ipython3",
   "version": "3.8.3"
  }
 },
 "nbformat": 4,
 "nbformat_minor": 1
}
