{
 "cells": [
  {
   "cell_type": "code",
   "execution_count": 1,
   "metadata": {
    "colab": {},
    "colab_type": "code",
    "id": "VkXxwOsdO2TU"
   },
   "outputs": [],
   "source": [
    "# Importing necessary libraries for training and visualization\n",
    "import numpy as np\n",
    "import torch\n",
    "import torchvision\n",
    "from time import time\n",
    "from torchvision import datasets, transforms\n",
    "from torch import nn, optim\n",
    "from torch.utils.data.sampler import SubsetRandomSampler\n",
    "from torch.utils.data.dataset import Subset\n",
    "from torch.autograd import Variable\n",
    "\n",
    "import matplotlib.pyplot as plt\n",
    "import tqdm"
   ]
  },
  {
   "cell_type": "code",
   "execution_count": 2,
   "metadata": {
    "colab": {
     "base_uri": "https://localhost:8080/",
     "height": 35
    },
    "colab_type": "code",
    "id": "8-9rw0MKXrMA",
    "outputId": "a981e192-9d5e-47b0-8ee2-fd0f4912af28"
   },
   "outputs": [
    {
     "data": {
      "application/vnd.google.colaboratory.intrinsic": {
       "type": "string"
      },
      "text/plain": [
       "'Tesla K80'"
      ]
     },
     "execution_count": 2,
     "metadata": {
      "tags": []
     },
     "output_type": "execute_result"
    }
   ],
   "source": [
    "# Check to see that you are connected to a GPU\n",
    "torch.cuda.get_device_name(0)"
   ]
  },
  {
   "cell_type": "code",
   "execution_count": 3,
   "metadata": {
    "colab": {},
    "colab_type": "code",
    "id": "ZDw80WDnOpQU"
   },
   "outputs": [],
   "source": [
    "# Defining a normalization function for our data using the transforms library.\n",
    "\n",
    "# transforms.ToTensor() to scales values in the RGB channels typically (between \n",
    "# 0 and 255) to values between 0 and 1. We only have one channel in MNIST since\n",
    "# it is a grayscale image.\n",
    "\n",
    "# transforms.Normalize() normalizes the inputs to the given mean and std dev.\n",
    "# Since we only have one channel, specify the mean and std dev as 1-D vectors.\n",
    "mean = (0.5,0.5,0.5)\n",
    "std_dev = (0.5,0.5,0.5)\n",
    "\n",
    "normalization_transforms = [transforms.ToTensor(), \n",
    "                            transforms.Normalize(mean, std_dev)]\n",
    "\n",
    "# Composing all of our desired transforms into a single object we'll use when\n",
    "# loading out dataset.\n",
    "transform = transforms.Compose(normalization_transforms)"
   ]
  },
  {
   "cell_type": "code",
   "execution_count": 4,
   "metadata": {
    "colab": {},
    "colab_type": "code",
    "id": "tiY_LgVBABAf"
   },
   "outputs": [],
   "source": [
    "def create_subset(dataset, indices):\n",
    "  '''\n",
    "  Returns subset of torchvision dataset given class indices.\n",
    "  '''\n",
    "  if isinstance(indices, int):\n",
    "    indices = [indices]\n",
    "  \n",
    "  split_idx = torch.tensor(dataset.targets) == indices[0]\n",
    "  indices = indices[1:]\n",
    "  for idx in indices:\n",
    "    split_idx += torch.tensor(dataset.targets) == idx\n",
    "  \n",
    "  return Subset(dataset, np.where(split_idx==1)[0])"
   ]
  },
  {
   "cell_type": "code",
   "execution_count": 5,
   "metadata": {
    "colab": {
     "base_uri": "https://localhost:8080/",
     "height": 102,
     "referenced_widgets": [
      "bc1cfa394b50416c86579782821a37ee",
      "c7f56b1f43f045d7a08d17b7f8d1e1be",
      "8bd89daa7f3f47e0ade665218d6469f2",
      "dacb57517858497d849cad929d842a04",
      "00641d67449849d2b00341278a73e55a",
      "3cf9e961b6e444c2a7d127941ae1bc9f",
      "1b9854396a5b47e88ed8860255cb47ec",
      "64266b82ada74a21b5ae968fe9f9561a"
     ]
    },
    "colab_type": "code",
    "id": "MlgkpdvCPZ_r",
    "outputId": "9a755fb8-f600-497b-f780-c49d373fe0f9"
   },
   "outputs": [
    {
     "name": "stdout",
     "output_type": "stream",
     "text": [
      "Downloading https://www.cs.toronto.edu/~kriz/cifar-10-python.tar.gz to PATH_TO_STORE_TRAINSET/cifar-10-python.tar.gz\n"
     ]
    },
    {
     "data": {
      "application/vnd.jupyter.widget-view+json": {
       "model_id": "bc1cfa394b50416c86579782821a37ee",
       "version_major": 2,
       "version_minor": 0
      },
      "text/plain": [
       "HBox(children=(FloatProgress(value=1.0, bar_style='info', max=1.0), HTML(value='')))"
      ]
     },
     "metadata": {
      "tags": []
     },
     "output_type": "display_data"
    },
    {
     "name": "stdout",
     "output_type": "stream",
     "text": [
      "Extracting PATH_TO_STORE_TRAINSET/cifar-10-python.tar.gz to PATH_TO_STORE_TRAINSET\n",
      "Files already downloaded and verified\n"
     ]
    }
   ],
   "source": [
    "# Defining hyper-parameters and other values used by our model.\n",
    "\n",
    "# Size of the batch our network sees. Batch size dictates how many examples the \n",
    "# model \"sees\" before computing updates (or backpropagation). \n",
    "batch_size = 50\n",
    "\n",
    "# The percentage of our training dataset that will be used for validation \n",
    "# during training.\n",
    "validation_split = .2\n",
    "\n",
    "# Below are parameters for the shuffling of the dataset. We specify the random\n",
    "# seed explicitly so your data-split is the same as this example.\n",
    "shuffle_dataset = True\n",
    "random_seed = 42\n",
    "\n",
    "# Loading and create pytorch dataset objects for our training and test sets.\n",
    "\n",
    "train_set = datasets.CIFAR10('PATH_TO_STORE_TRAINSET', download=True, train=True, \\\n",
    "                 transform=transform)\n",
    "test_set = datasets.CIFAR10('PATH_TO_STORE_TRAINSET', download=True, train=False, \\\n",
    "                 transform=transform)\n",
    "\n",
    "subset_classes = [1,2,3]\n",
    "train_set = create_subset(train_set, subset_classes)\n",
    "test_set = create_subset(test_set, subset_classes)\n",
    "\n",
    "# Create validation split by taking a percentage of the training set:\n",
    "dataset_size = len(train_set)\n",
    "indices = list(range(dataset_size))\n",
    "split = int(np.floor(validation_split * dataset_size))\n",
    "\n",
    "# Shuffle the dataset to increase generalization and speed training\n",
    "if shuffle_dataset :\n",
    "    np.random.seed(random_seed)\n",
    "    np.random.shuffle(indices)\n",
    "\n",
    "train_indices, val_indices = indices[split:], indices[:split]\n",
    "\n",
    "# Use the SubsetRandomSampler to randomly sample the training dataset for \n",
    "# training and validation data. We will feed this into the dataloader below.\n",
    "train_sampler = SubsetRandomSampler(train_indices)\n",
    "val_sampler = SubsetRandomSampler(val_indices)\n",
    "\n",
    "# Create dataloader objects - will be used during training and inference\n",
    "# to iterate over the data.\n",
    "train_loader = torch.utils.data.DataLoader(train_set, batch_size=batch_size, \\\n",
    "                                           sampler=train_sampler)\n",
    "val_loader = torch.utils.data.DataLoader(train_set, batch_size=batch_size, \\\n",
    "                                         sampler=val_sampler)\n",
    "test_loader = torch.utils.data.DataLoader(test_set, batch_size=batch_size, \\\n",
    "                                          shuffle=False)"
   ]
  },
  {
   "cell_type": "code",
   "execution_count": null,
   "metadata": {
    "colab": {
     "base_uri": "https://localhost:8080/",
     "height": 173
    },
    "colab_type": "code",
    "id": "KBI4LMzUTpx1",
    "outputId": "34352ec9-a9b3-41c6-bce4-cd169fd3e1e1"
   },
   "outputs": [
    {
     "name": "stdout",
     "output_type": "stream",
     "text": [
      "15000 3000\n"
     ]
    },
    {
     "data": {
      "image/png": "[encoded data removed]",
      "text/plain": [
       "<Figure size 432x288 with 1 Axes>"
      ]
     },
     "metadata": {
      "needs_background": "light",
      "tags": []
     },
     "output_type": "display_data"
    },
    {
     "name": "stdout",
     "output_type": "stream",
     "text": [
      "  car   car  bird  bird\n"
     ]
    }
   ],
   "source": [
    "# Verify we've loaded the number of training and testing samples we expect.\n",
    "print(len(train_set), len(test_set))\n",
    "\n",
    "# Let's visualize data from our validation to make sure it's loaded correctly.\n",
    "# Each time this is run, a random sample will be viewed.\n",
    "def imshow(img):\n",
    "    img = img / 2 + 0.5     # unnormalize\n",
    "    npimg = img.numpy()\n",
    "    plt.imshow(np.transpose(npimg, (1, 2, 0)))\n",
    "    plt.show()\n",
    "\n",
    "classes = ('plane', 'car', 'bird', 'cat',\n",
    "           'deer', 'dog', 'frog', 'horse', 'ship', 'truck')\n",
    "\n",
    "# get some random training images\n",
    "dataiter = iter(train_loader)\n",
    "images, labels = dataiter.next()\n",
    "\n",
    "# show images\n",
    "imshow(torchvision.utils.make_grid(images))\n",
    "# print labels\n",
    "print(' '.join('%5s' % classes[labels[j]] for j in range(4)))"
   ]
  },
  {
   "cell_type": "code",
   "execution_count": null,
   "metadata": {
    "colab": {},
    "colab_type": "code",
    "id": "lhoZ6F8HUI9D"
   },
   "outputs": [],
   "source": [
    "# Here we are going to create our neural network class by inheiriting the \n",
    "# nn.Module class. The main functions to notice are the initialization function \n",
    "# __init__() and forward propagation function forward().\n",
    "\n",
    "class Net(nn.Module):\n",
    "\n",
    "  # We initialize our neural net by defining the input size, number of nodes\n",
    "  # in hidden layers, and the total number of classes we are detecting.\n",
    "  def __init__(self, num_classes):\n",
    "\n",
    "    # IMPORTANT: This is often forgotten, but make sure to make a super call.\n",
    "    super(Net, self).__init__()\n",
    "\n",
    "  # Below we construct the output of the forward propagation pass of the neural\n",
    "  # net using the layers and activation functions defined in the Net constructor.\n",
    "  def forward(self, x):\n",
    "    pass\n"
   ]
  },
  {
   "cell_type": "code",
   "execution_count": null,
   "metadata": {
    "colab": {},
    "colab_type": "code",
    "id": "rcLI1_bblcQ7"
   },
   "outputs": [],
   "source": [
    "# Create a neural network object with the specified number of input neurons,\n",
    "# hidden neurons, and output neurons (or total classes)\n",
    "# device = torch.device('cuda' if torch.cuda.is_available() else 'cpu')\n",
    "\n",
    "net = Net(10)\n",
    "\n",
    "# We use cross-entropy loss with the Adam optimizer. No need to understand what\n",
    "# these two mean just yet, we will go over cross-entropy soon and the Adam \n",
    "# optimizer in a later lecture.\n",
    "criterion = nn.CrossEntropyLoss()\n",
    "optimizer = torch.optim.Adam(net.parameters(), lr=0.001)"
   ]
  },
  {
   "cell_type": "code",
   "execution_count": null,
   "metadata": {
    "colab": {},
    "colab_type": "code",
    "id": "1YPL2YuI9Azm"
   },
   "outputs": [],
   "source": [
    "# Function for getting accuracy, adapted from: \n",
    "# https://towardsdatascience.com/a-simple-starter-guide-to-build-a-neural-network-3c2cf07b8d7c\n",
    "\n",
    "def get_accuracy(loader, my_net):\n",
    "  correct = 0\n",
    "  total = 0\n",
    "  for images, labels in loader:\n",
    "      images = images.cuda()\n",
    "      labels = labels.cuda()\n",
    "      outputs = my_net(images)\n",
    "      _, predicted = torch.max(outputs.data, 1)  \n",
    "      total += labels.size(0)               \n",
    "      correct += (predicted == labels).sum()\n",
    "\n",
    "  return 100 * correct / total"
   ]
  },
  {
   "cell_type": "code",
   "execution_count": null,
   "metadata": {
    "colab": {
     "base_uri": "https://localhost:8080/",
     "height": 87,
     "referenced_widgets": [
      "efa4bd532307436c9db2f649b168d8c9",
      "0c9c71b71e8e421ead4b7d1a9171b3a9",
      "234ec2ac0cd64fa39faa60997923c732",
      "35a2fb4757554962a13feac08d475f7d",
      "cf21e841a750432da16cfcad8fea0834",
      "3424bd202a6843658df027a6e09687ca",
      "623d6266abf146de9b1b491e970a228a",
      "00d6f0f11a504c418eef9c0bff75c350"
     ]
    },
    "colab_type": "code",
    "id": "PhfFX57Ulsj7",
    "outputId": "f6496c98-a19c-4f46-c1c5-3598a8668744"
   },
   "outputs": [
    {
     "data": {
      "application/vnd.jupyter.widget-view+json": {
       "model_id": "efa4bd532307436c9db2f649b168d8c9",
       "version_major": 2,
       "version_minor": 0
      },
      "text/plain": [
       "HBox(children=(FloatProgress(value=0.0, layout=Layout(flex='2'), max=3000.0), HTML(value='')), layout=Layout(d…"
      ]
     },
     "metadata": {
      "tags": []
     },
     "output_type": "display_data"
    },
    {
     "name": "stderr",
     "output_type": "stream",
     "text": [
      "/pytorch/aten/src/ATen/native/BinaryOps.cpp:81: UserWarning: Integer division of tensors using div or / is deprecated, and in a future release div will perform true division as in Python 3. Use true_divide or floor_divide (// in Python) instead.\n"
     ]
    }
   ],
   "source": [
    "# Here we create our training loop, which runs for the number of epochs\n",
    "# specified below. \n",
    "\n",
    "# 1 Epoch represents one entire pass through your training dataset, so 20 epochs\n",
    "# means that your model will see each data point ~20 times during training.\n",
    "num_epochs = 20\n",
    "\n",
    "loss_tracker = []\n",
    "\n",
    "net.cuda()\n",
    "\n",
    "for epoch in range(num_epochs):\n",
    "  # Initialize random value for loss just for displaying purposes\n",
    "  loss = torch.tensor([100])\n",
    "\n",
    "  # Using the tqdm for nice training visuals\n",
    "  progress_bar = tqdm.notebook.tqdm(train_loader, ncols=1000)\n",
    "\n",
    "  # We load a batch of images and their corresponding labels here and continue\n",
    "  # until we trained on all batches.\n",
    "  for i, (images, labels) in enumerate(progress_bar):\n",
    "    # Convert torch tensor to a vector of size 784 in order to send it to input\n",
    "    # layer\n",
    "    images_gpu = images.cuda()\n",
    "    labels_gpu = labels.cuda()\n",
    "\n",
    "    # Clear the gradients before performing backpropagation\n",
    "    optimizer.zero_grad()\n",
    "    # Perform the forward pass - this call of net calls the forward() fn\n",
    "    outputs = net(images_gpu)\n",
    "    # Compute loss on the output of the forward pass and desired label\n",
    "    loss = criterion(outputs, labels_gpu)\n",
    "    # Compute the gradients with respect to the loss function\n",
    "    loss.backward()      \n",
    "    # Update the weights in the neural network using the optimizer/backprop\n",
    "    optimizer.step()\n",
    "\n",
    "    # Track losses for plotting later\n",
    "    loss_tracker.append(loss.data)                                  \n",
    "\n",
    "    # Visualization code\n",
    "    if (i+1) % 100 == 0 or (i+1) == len(train_loader):   \n",
    "      progress_bar.set_description('Epoch [%d/%d], Step [%d/%d], Val Acc: %d, Training Loss: %.4f'\n",
    "              %(epoch+1, num_epochs, i+1, len(train_loader), \\\n",
    "                get_accuracy(val_loader, net), loss.data))\n"
   ]
  },
  {
   "cell_type": "code",
   "execution_count": null,
   "metadata": {
    "colab": {
     "base_uri": "https://localhost:8080/",
     "height": 52
    },
    "colab_type": "code",
    "id": "i_PflR18lwGd",
    "outputId": "41f46b27-1fd1-4f77-c3d7-4fa40ed88683"
   },
   "outputs": [
    {
     "name": "stdout",
     "output_type": "stream",
     "text": [
      "Accuracy of the network on the 60K train images: 93 %\n",
      "Accuracy of the network on the 10K test images: 75 %\n"
     ]
    }
   ],
   "source": [
    "# Print the training and test accuracy\n",
    "train_acc = get_accuracy(train_loader, net)\n",
    "# test_acc = get_accuracy(test_loader, net)\n",
    "\n",
    "print('Accuracy of the network on the 60K train images: %d %%' % (train_acc))\n",
    "# print('Accuracy of the network on the 10K test images: %d %%' % (test_acc))"
   ]
  },
  {
   "cell_type": "code",
   "execution_count": null,
   "metadata": {
    "colab": {
     "base_uri": "https://localhost:8080/",
     "height": 295
    },
    "colab_type": "code",
    "id": "lLwzEfFiCWOf",
    "outputId": "0fc3714e-5907-4f8a-c2f8-947a0a3858bf"
   },
   "outputs": [
    {
     "data": {
      "image/png": "[encoded data removed]",
      "text/plain": [
       "<Figure size 432x288 with 1 Axes>"
      ]
     },
     "metadata": {
      "needs_background": "light",
      "tags": []
     },
     "output_type": "display_data"
    }
   ],
   "source": [
    "# Plot the loss over time\n",
    "plt.plot(loss_tracker)\n",
    "plt.ylabel(\"Loss\")\n",
    "plt.xlabel(\"Step Number\")\n",
    "plt.title(\"Loss over time\")\n",
    "plt.show()"
   ]
  },
  {
   "cell_type": "code",
   "execution_count": null,
   "metadata": {
    "colab": {},
    "colab_type": "code",
    "id": "KY1qkKJeaXOm"
   },
   "outputs": [],
   "source": [
    "# Let's visualize where the model is making bad predictions and get an idea of \n",
    "# why that's happening\n",
    "test_loader = torch.utils.data.DataLoader(test_set, batch_size=1)\n",
    "\n",
    "correct = 0\n",
    "misclassified_images = []\n",
    "misclassified_labels = []\n",
    "misclassified_preds = []\n",
    "for images, labels in test_loader:\n",
    "    images = Variable(images)\n",
    "    outputs = net(images)\n",
    "    _, predicted = torch.max(outputs.data, 1)  \n",
    "    correct += (predicted == labels).sum()\n",
    "\n",
    "    if predicted != labels:\n",
    "      misclassified_images.append(images.view(1, 28, 28))\n",
    "      misclassified_labels.append(labels)\n",
    "      misclassified_preds.append(predicted)"
   ]
  },
  {
   "cell_type": "code",
   "execution_count": null,
   "metadata": {
    "colab": {
     "base_uri": "https://localhost:8080/",
     "height": 300
    },
    "colab_type": "code",
    "id": "p8WtKA3WdUwe",
    "outputId": "4f8d7b0b-157f-4035-8fe7-93d4cf421b47"
   },
   "outputs": [
    {
     "name": "stdout",
     "output_type": "stream",
     "text": [
      "Actual Label:  tensor([7])\n",
      "Prediction:  tensor([9])\n"
     ]
    },
    {
     "data": {
      "image/png": "[encoded data removed]",
      "text/plain": [
       "<Figure size 432x288 with 1 Axes>"
      ]
     },
     "metadata": {
      "needs_background": "light",
      "tags": []
     },
     "output_type": "display_data"
    }
   ],
   "source": [
    "# Keep running this cell to see randomly chosen images that the model misclassified\n",
    "# in the testing set.\n",
    "rand_idx = np.random.randint(len(misclassified_images))\n",
    "plt.imshow(misclassified_images[rand_idx].numpy().squeeze(), cmap='gray_r');\n",
    "print(\"Actual Label: \", misclassified_labels[rand_idx])\n",
    "print(\"Prediction: \", misclassified_preds[rand_idx])"
   ]
  }
 ],
 "metadata": {
  "accelerator": "GPU",
  "colab": {
   "collapsed_sections": [],
   "name": "Lecture #9 - Coding Exercise",
   "provenance": []
  },
  "kernelspec": {
   "display_name": "Python 3",
   "language": "python",
   "name": "python3"
  },
  "language_info": {
   "codemirror_mode": {
    "name": "ipython",
    "version": 3
   },
   "file_extension": ".py",
   "mimetype": "text/x-python",
   "name": "python",
   "nbconvert_exporter": "python",
   "pygments_lexer": "ipython3",
   "version": "3.8.3"
  },
  "widgets": {
   "application/vnd.jupyter.widget-state+json": {
    "00641d67449849d2b00341278a73e55a": {
     "model_module": "@jupyter-widgets/controls",
     "model_name": "ProgressStyleModel",
     "state": {
      "_model_module": "@jupyter-widgets/controls",
      "_model_module_version": "1.5.0",
      "_model_name": "ProgressStyleModel",
      "_view_count": null,
      "_view_module": "@jupyter-widgets/base",
      "_view_module_version": "1.2.0",
      "_view_name": "StyleView",
      "bar_color": null,
      "description_width": "initial"
     }
    },
    "00d6f0f11a504c418eef9c0bff75c350": {
     "model_module": "@jupyter-widgets/base",
     "model_name": "LayoutModel",
     "state": {
      "_model_module": "@jupyter-widgets/base",
      "_model_module_version": "1.2.0",
      "_model_name": "LayoutModel",
      "_view_count": null,
      "_view_module": "@jupyter-widgets/base",
      "_view_module_version": "1.2.0",
      "_view_name": "LayoutView",
      "align_content": null,
      "align_items": null,
      "align_self": null,
      "border": null,
      "bottom": null,
      "display": null,
      "flex": null,
      "flex_flow": null,
      "grid_area": null,
      "grid_auto_columns": null,
      "grid_auto_flow": null,
      "grid_auto_rows": null,
      "grid_column": null,
      "grid_gap": null,
      "grid_row": null,
      "grid_template_areas": null,
      "grid_template_columns": null,
      "grid_template_rows": null,
      "height": null,
      "justify_content": null,
      "justify_items": null,
      "left": null,
      "margin": null,
      "max_height": null,
      "max_width": null,
      "min_height": null,
      "min_width": null,
      "object_fit": null,
      "object_position": null,
      "order": null,
      "overflow": null,
      "overflow_x": null,
      "overflow_y": null,
      "padding": null,
      "right": null,
      "top": null,
      "visibility": null,
      "width": null
     }
    },
    "0c9c71b71e8e421ead4b7d1a9171b3a9": {
     "model_module": "@jupyter-widgets/base",
     "model_name": "LayoutModel",
     "state": {
      "_model_module": "@jupyter-widgets/base",
      "_model_module_version": "1.2.0",
      "_model_name": "LayoutModel",
      "_view_count": null,
      "_view_module": "@jupyter-widgets/base",
      "_view_module_version": "1.2.0",
      "_view_name": "LayoutView",
      "align_content": null,
      "align_items": null,
      "align_self": null,
      "border": null,
      "bottom": null,
      "display": "inline-flex",
      "flex": null,
      "flex_flow": "row wrap",
      "grid_area": null,
      "grid_auto_columns": null,
      "grid_auto_flow": null,
      "grid_auto_rows": null,
      "grid_column": null,
      "grid_gap": null,
      "grid_row": null,
      "grid_template_areas": null,
      "grid_template_columns": null,
      "grid_template_rows": null,
      "height": null,
      "justify_content": null,
      "justify_items": null,
      "left": null,
      "margin": null,
      "max_height": null,
      "max_width": null,
      "min_height": null,
      "min_width": null,
      "object_fit": null,
      "object_position": null,
      "order": null,
      "overflow": null,
      "overflow_x": null,
      "overflow_y": null,
      "padding": null,
      "right": null,
      "top": null,
      "visibility": null,
      "width": "1000px"
     }
    },
    "1b9854396a5b47e88ed8860255cb47ec": {
     "model_module": "@jupyter-widgets/controls",
     "model_name": "DescriptionStyleModel",
     "state": {
      "_model_module": "@jupyter-widgets/controls",
      "_model_module_version": "1.5.0",
      "_model_name": "DescriptionStyleModel",
      "_view_count": null,
      "_view_module": "@jupyter-widgets/base",
      "_view_module_version": "1.2.0",
      "_view_name": "StyleView",
      "description_width": ""
     }
    },
    "234ec2ac0cd64fa39faa60997923c732": {
     "model_module": "@jupyter-widgets/controls",
     "model_name": "FloatProgressModel",
     "state": {
      "_dom_classes": [],
      "_model_module": "@jupyter-widgets/controls",
      "_model_module_version": "1.5.0",
      "_model_name": "FloatProgressModel",
      "_view_count": null,
      "_view_module": "@jupyter-widgets/controls",
      "_view_module_version": "1.5.0",
      "_view_name": "ProgressView",
      "bar_style": "",
      "description": "Epoch [1/5], Step [2800/3000], Val Acc: 74, Training Loss: 1.1412:  96%",
      "description_tooltip": null,
      "layout": "IPY_MODEL_3424bd202a6843658df027a6e09687ca",
      "max": 3000,
      "min": 0,
      "orientation": "horizontal",
      "style": "IPY_MODEL_cf21e841a750432da16cfcad8fea0834",
      "value": 2877
     }
    },
    "3424bd202a6843658df027a6e09687ca": {
     "model_module": "@jupyter-widgets/base",
     "model_name": "LayoutModel",
     "state": {
      "_model_module": "@jupyter-widgets/base",
      "_model_module_version": "1.2.0",
      "_model_name": "LayoutModel",
      "_view_count": null,
      "_view_module": "@jupyter-widgets/base",
      "_view_module_version": "1.2.0",
      "_view_name": "LayoutView",
      "align_content": null,
      "align_items": null,
      "align_self": null,
      "border": null,
      "bottom": null,
      "display": null,
      "flex": "2",
      "flex_flow": null,
      "grid_area": null,
      "grid_auto_columns": null,
      "grid_auto_flow": null,
      "grid_auto_rows": null,
      "grid_column": null,
      "grid_gap": null,
      "grid_row": null,
      "grid_template_areas": null,
      "grid_template_columns": null,
      "grid_template_rows": null,
      "height": null,
      "justify_content": null,
      "justify_items": null,
      "left": null,
      "margin": null,
      "max_height": null,
      "max_width": null,
      "min_height": null,
      "min_width": null,
      "object_fit": null,
      "object_position": null,
      "order": null,
      "overflow": null,
      "overflow_x": null,
      "overflow_y": null,
      "padding": null,
      "right": null,
      "top": null,
      "visibility": null,
      "width": null
     }
    },
    "35a2fb4757554962a13feac08d475f7d": {
     "model_module": "@jupyter-widgets/controls",
     "model_name": "HTMLModel",
     "state": {
      "_dom_classes": [],
      "_model_module": "@jupyter-widgets/controls",
      "_model_module_version": "1.5.0",
      "_model_name": "HTMLModel",
      "_view_count": null,
      "_view_module": "@jupyter-widgets/controls",
      "_view_module_version": "1.5.0",
      "_view_name": "HTMLView",
      "description": "",
      "description_tooltip": null,
      "layout": "IPY_MODEL_00d6f0f11a504c418eef9c0bff75c350",
      "placeholder": "​",
      "style": "IPY_MODEL_623d6266abf146de9b1b491e970a228a",
      "value": " 2877/3000 [00:43&lt;00:01, 82.31it/s]"
     }
    },
    "3cf9e961b6e444c2a7d127941ae1bc9f": {
     "model_module": "@jupyter-widgets/base",
     "model_name": "LayoutModel",
     "state": {
      "_model_module": "@jupyter-widgets/base",
      "_model_module_version": "1.2.0",
      "_model_name": "LayoutModel",
      "_view_count": null,
      "_view_module": "@jupyter-widgets/base",
      "_view_module_version": "1.2.0",
      "_view_name": "LayoutView",
      "align_content": null,
      "align_items": null,
      "align_self": null,
      "border": null,
      "bottom": null,
      "display": null,
      "flex": null,
      "flex_flow": null,
      "grid_area": null,
      "grid_auto_columns": null,
      "grid_auto_flow": null,
      "grid_auto_rows": null,
      "grid_column": null,
      "grid_gap": null,
      "grid_row": null,
      "grid_template_areas": null,
      "grid_template_columns": null,
      "grid_template_rows": null,
      "height": null,
      "justify_content": null,
      "justify_items": null,
      "left": null,
      "margin": null,
      "max_height": null,
      "max_width": null,
      "min_height": null,
      "min_width": null,
      "object_fit": null,
      "object_position": null,
      "order": null,
      "overflow": null,
      "overflow_x": null,
      "overflow_y": null,
      "padding": null,
      "right": null,
      "top": null,
      "visibility": null,
      "width": null
     }
    },
    "623d6266abf146de9b1b491e970a228a": {
     "model_module": "@jupyter-widgets/controls",
     "model_name": "DescriptionStyleModel",
     "state": {
      "_model_module": "@jupyter-widgets/controls",
      "_model_module_version": "1.5.0",
      "_model_name": "DescriptionStyleModel",
      "_view_count": null,
      "_view_module": "@jupyter-widgets/base",
      "_view_module_version": "1.2.0",
      "_view_name": "StyleView",
      "description_width": ""
     }
    },
    "64266b82ada74a21b5ae968fe9f9561a": {
     "model_module": "@jupyter-widgets/base",
     "model_name": "LayoutModel",
     "state": {
      "_model_module": "@jupyter-widgets/base",
      "_model_module_version": "1.2.0",
      "_model_name": "LayoutModel",
      "_view_count": null,
      "_view_module": "@jupyter-widgets/base",
      "_view_module_version": "1.2.0",
      "_view_name": "LayoutView",
      "align_content": null,
      "align_items": null,
      "align_self": null,
      "border": null,
      "bottom": null,
      "display": null,
      "flex": null,
      "flex_flow": null,
      "grid_area": null,
      "grid_auto_columns": null,
      "grid_auto_flow": null,
      "grid_auto_rows": null,
      "grid_column": null,
      "grid_gap": null,
      "grid_row": null,
      "grid_template_areas": null,
      "grid_template_columns": null,
      "grid_template_rows": null,
      "height": null,
      "justify_content": null,
      "justify_items": null,
      "left": null,
      "margin": null,
      "max_height": null,
      "max_width": null,
      "min_height": null,
      "min_width": null,
      "object_fit": null,
      "object_position": null,
      "order": null,
      "overflow": null,
      "overflow_x": null,
      "overflow_y": null,
      "padding": null,
      "right": null,
      "top": null,
      "visibility": null,
      "width": null
     }
    },
    "8bd89daa7f3f47e0ade665218d6469f2": {
     "model_module": "@jupyter-widgets/controls",
     "model_name": "FloatProgressModel",
     "state": {
      "_dom_classes": [],
      "_model_module": "@jupyter-widgets/controls",
      "_model_module_version": "1.5.0",
      "_model_name": "FloatProgressModel",
      "_view_count": null,
      "_view_module": "@jupyter-widgets/controls",
      "_view_module_version": "1.5.0",
      "_view_name": "ProgressView",
      "bar_style": "info",
      "description": "",
      "description_tooltip": null,
      "layout": "IPY_MODEL_3cf9e961b6e444c2a7d127941ae1bc9f",
      "max": 1,
      "min": 0,
      "orientation": "horizontal",
      "style": "IPY_MODEL_00641d67449849d2b00341278a73e55a",
      "value": 1
     }
    },
    "bc1cfa394b50416c86579782821a37ee": {
     "model_module": "@jupyter-widgets/controls",
     "model_name": "HBoxModel",
     "state": {
      "_dom_classes": [],
      "_model_module": "@jupyter-widgets/controls",
      "_model_module_version": "1.5.0",
      "_model_name": "HBoxModel",
      "_view_count": null,
      "_view_module": "@jupyter-widgets/controls",
      "_view_module_version": "1.5.0",
      "_view_name": "HBoxView",
      "box_style": "",
      "children": [
       "IPY_MODEL_8bd89daa7f3f47e0ade665218d6469f2",
       "IPY_MODEL_dacb57517858497d849cad929d842a04"
      ],
      "layout": "IPY_MODEL_c7f56b1f43f045d7a08d17b7f8d1e1be"
     }
    },
    "c7f56b1f43f045d7a08d17b7f8d1e1be": {
     "model_module": "@jupyter-widgets/base",
     "model_name": "LayoutModel",
     "state": {
      "_model_module": "@jupyter-widgets/base",
      "_model_module_version": "1.2.0",
      "_model_name": "LayoutModel",
      "_view_count": null,
      "_view_module": "@jupyter-widgets/base",
      "_view_module_version": "1.2.0",
      "_view_name": "LayoutView",
      "align_content": null,
      "align_items": null,
      "align_self": null,
      "border": null,
      "bottom": null,
      "display": null,
      "flex": null,
      "flex_flow": null,
      "grid_area": null,
      "grid_auto_columns": null,
      "grid_auto_flow": null,
      "grid_auto_rows": null,
      "grid_column": null,
      "grid_gap": null,
      "grid_row": null,
      "grid_template_areas": null,
      "grid_template_columns": null,
      "grid_template_rows": null,
      "height": null,
      "justify_content": null,
      "justify_items": null,
      "left": null,
      "margin": null,
      "max_height": null,
      "max_width": null,
      "min_height": null,
      "min_width": null,
      "object_fit": null,
      "object_position": null,
      "order": null,
      "overflow": null,
      "overflow_x": null,
      "overflow_y": null,
      "padding": null,
      "right": null,
      "top": null,
      "visibility": null,
      "width": null
     }
    },
    "cf21e841a750432da16cfcad8fea0834": {
     "model_module": "@jupyter-widgets/controls",
     "model_name": "ProgressStyleModel",
     "state": {
      "_model_module": "@jupyter-widgets/controls",
      "_model_module_version": "1.5.0",
      "_model_name": "ProgressStyleModel",
      "_view_count": null,
      "_view_module": "@jupyter-widgets/base",
      "_view_module_version": "1.2.0",
      "_view_name": "StyleView",
      "bar_color": null,
      "description_width": "initial"
     }
    },
    "dacb57517858497d849cad929d842a04": {
     "model_module": "@jupyter-widgets/controls",
     "model_name": "HTMLModel",
     "state": {
      "_dom_classes": [],
      "_model_module": "@jupyter-widgets/controls",
      "_model_module_version": "1.5.0",
      "_model_name": "HTMLModel",
      "_view_count": null,
      "_view_module": "@jupyter-widgets/controls",
      "_view_module_version": "1.5.0",
      "_view_name": "HTMLView",
      "description": "",
      "description_tooltip": null,
      "layout": "IPY_MODEL_64266b82ada74a21b5ae968fe9f9561a",
      "placeholder": "​",
      "style": "IPY_MODEL_1b9854396a5b47e88ed8860255cb47ec",
      "value": " 170500096/? [00:20&lt;00:00, 87111701.43it/s]"
     }
    },
    "efa4bd532307436c9db2f649b168d8c9": {
     "model_module": "@jupyter-widgets/controls",
     "model_name": "HBoxModel",
     "state": {
      "_dom_classes": [],
      "_model_module": "@jupyter-widgets/controls",
      "_model_module_version": "1.5.0",
      "_model_name": "HBoxModel",
      "_view_count": null,
      "_view_module": "@jupyter-widgets/controls",
      "_view_module_version": "1.5.0",
      "_view_name": "HBoxView",
      "box_style": "",
      "children": [
       "IPY_MODEL_234ec2ac0cd64fa39faa60997923c732",
       "IPY_MODEL_35a2fb4757554962a13feac08d475f7d"
      ],
      "layout": "IPY_MODEL_0c9c71b71e8e421ead4b7d1a9171b3a9"
     }
    }
   }
  }
 },
 "nbformat": 4,
 "nbformat_minor": 1
}
