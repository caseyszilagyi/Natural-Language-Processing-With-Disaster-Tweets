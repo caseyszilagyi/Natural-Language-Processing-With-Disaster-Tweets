{
 "cells": [
  {
   "cell_type": "code",
   "execution_count": 11,
   "metadata": {},
   "outputs": [],
   "source": [
    "# Importing necessary libraries for training and visualization\n",
    "import numpy as np\n",
    "import torch\n",
    "import torchvision\n",
    "from time import time\n",
    "from torchvision import datasets, transforms\n",
    "from torch import nn, optim\n",
    "from torch.utils.data.sampler import SubsetRandomSampler\n",
    "from torch.autograd import Variable\n",
    "\n",
    "import matplotlib.pyplot as plt\n",
    "import tqdm\n",
    "\n",
    "\n",
    "filePath = \"/Users/cszilagyi2019/Desktop/All Coding/Future Sales/train.csv\"\n",
    "tweetData = pd.read_csv(filePath)"
   ]
  },
  {
   "cell_type": "code",
   "execution_count": 10,
   "metadata": {},
   "outputs": [
    {
     "name": "stdout",
     "output_type": "stream",
     "text": [
      "  keyword location                                               text\n",
      "0     NaN      NaN  Our Deeds are the Reason of this #earthquake M...\n",
      "1     NaN      NaN             Forest fire near La Ronge Sask. Canada\n",
      "2     NaN      NaN  All residents asked to 'shelter in place' are ...\n",
      "3     NaN      NaN  13,000 people receive #wildfires evacuation or...\n",
      "4     NaN      NaN  Just got sent this photo from Ruby #Alaska as ...\n"
     ]
    }
   ],
   "source": [
    "#What we are predicting\n",
    "y = tweetData.target\n",
    "\n",
    "#The data we want to use to predict it\n",
    "features = ['keyword','location', 'text']\n",
    "x = tweetData[features]\n",
    "print(x.head())\n"
   ]
  },
  {
   "cell_type": "code",
   "execution_count": 13,
   "metadata": {},
   "outputs": [],
   "source": [
    "# Creating the Neural Network Class\n",
    "\n",
    "class Net(nn.Module):\n",
    "\n",
    "  def __init__(self, input_size, hidden_size, num_classes):\n",
    "\n",
    "    super(Net, self).__init__()\n",
    "\n",
    "    self.fc1 = nn.Linear(input_size, hidden_size)\n",
    "    self.fc2 = nn.Linear(hidden_size, hidden_size)\n",
    "    self.output = nn.Linear(hidden_size, num_classes)\n",
    "    \n",
    "    # Applying activation function\n",
    "    self.sigmoid = nn.Sigmoid()\n",
    "\n",
    "    \n",
    "  #Forward pass\n",
    "  def forward(self, x):\n",
    "\n",
    "    out = self.fc1(x)\n",
    "    out = self.sigmoid(out)\n",
    "    out = self.fc2(out)\n",
    "    out = self.sigmoid(out)\n",
    "    out = self.output(out)\n",
    "\n",
    "    return out"
   ]
  },
  {
   "cell_type": "code",
   "execution_count": null,
   "metadata": {},
   "outputs": [],
   "source": []
  }
 ],
 "metadata": {
  "kernelspec": {
   "display_name": "Python 3",
   "language": "python",
   "name": "python3"
  },
  "language_info": {
   "codemirror_mode": {
    "name": "ipython",
    "version": 3
   },
   "file_extension": ".py",
   "mimetype": "text/x-python",
   "name": "python",
   "nbconvert_exporter": "python",
   "pygments_lexer": "ipython3",
   "version": "3.8.3"
  }
 },
 "nbformat": 4,
 "nbformat_minor": 4
}
